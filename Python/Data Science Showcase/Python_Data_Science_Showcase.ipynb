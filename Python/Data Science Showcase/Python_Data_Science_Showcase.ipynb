{
 "cells": [
  {
   "cell_type": "code",
   "execution_count": null,
   "id": "9df68d79-0ec0-4973-b168-7a01cee57a1c",
   "metadata": {},
   "outputs": [],
   "source": [
    "#1. Data import and cleaning"
   ]
  },
  {
   "cell_type": "code",
   "execution_count": null,
   "id": "71e5301c-67ed-47d9-b8ae-3d0339f42140",
   "metadata": {},
   "outputs": [],
   "source": [
    "#Import required libraries\n",
    "import pandas as pd\n",
    "import numpy as np\n",
    "import seaborn as sns\n",
    "import matplotlib.pyplot as plt"
   ]
  },
  {
   "cell_type": "code",
   "execution_count": null,
   "id": "60e4d75f-bd84-4800-ad83-0113db50da1b",
   "metadata": {},
   "outputs": [],
   "source": [
    "#Load data\n",
    "df = pd.read_csv('dailyActivity_merged.csv')\n",
    "sleep = pd.read_csv('sleepDay_merged.csv')\n",
    "weight = pd.read_csv('weightLogInfo_merged.csv')"
   ]
  },
  {
   "cell_type": "code",
   "execution_count": null,
   "id": "c5dd9771-bad5-4399-b3d0-5eec249d4a53",
   "metadata": {},
   "outputs": [],
   "source": [
    "#Basic inspect\n",
    "df.head()  # View first 5 rows\n",
    "df.info()  # Structure and data types\n",
    "df.describe()  # Summary stats"
   ]
  },
  {
   "cell_type": "code",
   "execution_count": null,
   "id": "87f8730f-b036-4a70-8264-3c0302ecac3b",
   "metadata": {},
   "outputs": [],
   "source": [
    "#Check for missing values\n",
    "print(\"Missing values per column:\")\n",
    "print(df.isnull().sum())"
   ]
  },
  {
   "cell_type": "code",
   "execution_count": null,
   "id": "e3090f7f-e571-49e8-be96-13391e73b96b",
   "metadata": {},
   "outputs": [],
   "source": [
    "#Check for duplicates\n",
    "duplicates = df.duplicated()\n",
    "print(f\"Total duplicates: {duplicates.sum()}\")\n",
    "\n",
    "#df = df.drop_duplicates() #Remove duplicates"
   ]
  },
  {
   "cell_type": "code",
   "execution_count": null,
   "id": "723dc263-fb82-4704-9676-e27cb2303a4f",
   "metadata": {},
   "outputs": [],
   "source": [
    "#Convert date columns to datetime format\n",
    "df['ActivityDate'] = pd.to_datetime(df['ActivityDate'])"
   ]
  },
  {
   "cell_type": "code",
   "execution_count": null,
   "id": "b7a31287-a141-438b-8dea-35f046b652b6",
   "metadata": {},
   "outputs": [],
   "source": [
    "#Rename columns for clarity\n",
    "df.rename(columns={\n",
    "    'ActivityDate': 'Date',\n",
    "    'TotalSteps': 'Steps',\n",
    "    'TotalDistance': 'Distance',\n",
    "    'VeryActiveMinutes': 'ActiveMinutes',\n",
    "    'SedentaryMinutes': 'IdleMinutes',\n",
    "}, inplace=True)"
   ]
  },
  {
   "cell_type": "code",
   "execution_count": null,
   "id": "331511de-e64d-485a-b609-864ccf76ac20",
   "metadata": {},
   "outputs": [],
   "source": [
    "#Check column types and names after changes\n",
    "df.dtypes"
   ]
  },
  {
   "cell_type": "code",
   "execution_count": null,
   "id": "87b9d9f1-cc0a-49f2-b05c-35ccb60640eb",
   "metadata": {},
   "outputs": [],
   "source": [
    "#2 Data Plotting"
   ]
  },
  {
   "cell_type": "code",
   "execution_count": null,
   "id": "7b8eb47b-97f9-491d-8be0-f4d48dbc2623",
   "metadata": {},
   "outputs": [],
   "source": [
    "#Distribution of key metrics\n",
    "#Steps(TotalSteps)\n",
    "#Histogram\n",
    "import seaborn as sns\n",
    "import matplotlib.pyplot as plt\n",
    "\n",
    "sns.histplot(df['Steps'], kde=True, bins=30, color='skyblue')\n",
    "plt.title(\"Distribution of Total Steps\")\n",
    "plt.xlabel(\"Total Steps\")\n",
    "plt.ylabel(\"Frequency\")\n",
    "plt.show()"
   ]
  },
  {
   "cell_type": "code",
   "execution_count": null,
   "id": "606d79f6-63d9-4ffc-8850-2f25d8e68437",
   "metadata": {},
   "outputs": [],
   "source": [
    "#Calories\n",
    "#Boxplot\n",
    "sns.boxplot(x=df['Calories'], color='salmon')\n",
    "plt.title(\"Calories Burned - Boxplot\")\n",
    "plt.xlabel(\"Calories\")\n",
    "plt.show()"
   ]
  },
  {
   "cell_type": "code",
   "execution_count": null,
   "id": "be7e636c-9fdd-4a9c-9dad-bc52a00c53e0",
   "metadata": {},
   "outputs": [],
   "source": [
    "#Time series trend\n",
    "daily_steps = df.groupby('Date')['Steps'].sum()\n",
    "daily_steps.plot()\n",
    "plt.title(\"Daily Total Steps Over Time\")\n",
    "plt.ylabel(\"Total Steps\")\n",
    "plt.xlabel(\"Date\")\n",
    "plt.xticks(rotation=45)\n",
    "plt.grid(True)\n",
    "plt.show()"
   ]
  },
  {
   "cell_type": "code",
   "execution_count": null,
   "id": "7ba91053-b36f-4680-8c53-3af6c4be5ffc",
   "metadata": {},
   "outputs": [],
   "source": [
    "#Correlation analysis\n",
    "numeric_df = df.select_dtypes(include='number')  # get only numeric variables\n",
    "correlation = numeric_df.corr()\n",
    "\n",
    "sns.heatmap(correlation, annot=True, cmap='coolwarm', fmt=\".2f\")\n",
    "plt.title(\"Correlation Heatmap\")\n",
    "plt.show()"
   ]
  },
  {
   "cell_type": "code",
   "execution_count": null,
   "id": "ed74e1af-ea38-4eb9-b029-d8c1fcb08e20",
   "metadata": {},
   "outputs": [],
   "source": [
    "#Top active users by average steps\n",
    "top_users = df.groupby('Id')['Steps'].mean().sort_values(ascending=False).head(10)\n",
    "top_users.plot(kind='bar', color='teal')\n",
    "plt.title(\"Top 10 Users by Average Steps\")\n",
    "plt.xlabel(\"User ID\")\n",
    "plt.ylabel(\"Average Steps\")\n",
    "plt.xticks(rotation=45)\n",
    "plt.show()"
   ]
  },
  {
   "cell_type": "code",
   "execution_count": null,
   "id": "5c02d7d8-22d8-4288-9203-d03e188feaed",
   "metadata": {},
   "outputs": [],
   "source": [
    "#Steps by day of the week\n",
    "df['Weekday'] = df['Date'].dt.day_name()\n",
    "\n",
    "sns.boxplot(x='Weekday', y='Steps', data=df, order=[\n",
    "    'Monday', 'Tuesday', 'Wednesday', 'Thursday', 'Friday', 'Saturday', 'Sunday'\n",
    "])\n",
    "plt.title(\"Steps by Day of the Week\")\n",
    "plt.xlabel(\"Day of Week\")\n",
    "plt.ylabel(\"Total Steps\")\n",
    "plt.xticks(rotation=45)\n",
    "plt.show()"
   ]
  },
  {
   "cell_type": "code",
   "execution_count": null,
   "id": "aec4999d-6398-4ad7-bacc-ca90e453aaca",
   "metadata": {},
   "outputs": [],
   "source": [
    "#Sleep vs calories burned\n",
    "df_sleep = pd.read_csv('SleepDay_merged.csv')\n",
    "df_sleep['SleepDay'] = pd.to_datetime(df_sleep['SleepDay'])\n",
    "df_activity = df[['Id', 'Date', 'Steps', 'Calories']]\n",
    "df_activity['Date'] = pd.to_datetime(df_activity['Date'])\n",
    "\n",
    "df_combined = pd.merge(df_activity, df_sleep, left_on=['Id', 'Date'], right_on=['Id', 'SleepDay'])\n",
    "\n",
    "plt.figure(figsize=(10, 6))\n",
    "sns.scatterplot(data=df_combined, x='TotalMinutesAsleep', y='Calories', \n",
    "                hue='Steps', size='Steps', palette='viridis', sizes=(20, 200), alpha=0.7)\n",
    "plt.title('Sleep vs. Calories Burned with Step Volume')\n",
    "plt.xlabel('Total Minutes Asleep')\n",
    "plt.ylabel('Calories Burned')\n",
    "plt.legend(bbox_to_anchor=(1.05, 1), loc=2, title=\"Total Steps\")\n",
    "plt.tight_layout()\n",
    "plt.show()"
   ]
  },
  {
   "cell_type": "code",
   "execution_count": null,
   "id": "fbd38538-ad14-49d3-8989-f0f367418901",
   "metadata": {},
   "outputs": [],
   "source": [
    "#Steps trend by user\n",
    "#Get users at specific positions in table\n",
    "selected_users = df['Id'].unique()[[2, 5, 7, 11]]\n",
    "#Get users by ID value\n",
    "#selected_users = [1503960366, 1624580081, 1844505072]\n",
    "\n",
    "# Filter data for selected users\n",
    "df_sample = df[df['Id'].isin(selected_users)].copy()\n",
    "\n",
    "# Plot\n",
    "g = sns.FacetGrid(df_sample, col='Id', col_wrap=2, height=4, aspect=1.5)\n",
    "g.map_dataframe(sns.lineplot, x='Date', y='Steps')\n",
    "g.set_titles(\"User ID: {col_name}\")\n",
    "g.set_axis_labels(\"Date\", \"Total Steps\")\n",
    "g.fig.subplots_adjust(top=0.9)\n",
    "g.fig.suptitle('Step Trends by User')\n",
    "plt.show()"
   ]
  },
  {
   "cell_type": "code",
   "execution_count": null,
   "id": "120a5624-1204-4b60-85d3-12a16695f439",
   "metadata": {},
   "outputs": [],
   "source": [
    "#3. Feature Engineering"
   ]
  },
  {
   "cell_type": "code",
   "execution_count": null,
   "id": "bcf17e97-9861-44f3-8fe5-012aaf3b43c6",
   "metadata": {},
   "outputs": [],
   "source": [
    "#Intensity Ratio\n",
    "df['TotalActiveMinutes'] = df['ActiveMinutes'] + df['FairlyActiveMinutes'] + df['LightlyActiveMinutes']\n",
    "df['IntensityRatio'] = df['ActiveMinutes'] / df['TotalActiveMinutes']\n",
    "df['IntensityRatio'] = df['IntensityRatio'].fillna(0)\n",
    "#df['IntensityRatio']"
   ]
  },
  {
   "cell_type": "code",
   "execution_count": null,
   "id": "c4941977-59a0-4db8-8c19-f4d0f9add7ef",
   "metadata": {},
   "outputs": [],
   "source": [
    "#Steps per minute of activity\n",
    "df['StepsPerActiveMinute'] = df['Steps'] / df['TotalActiveMinutes']\n",
    "df['StepsPerActiveMinute'] = df['StepsPerActiveMinute'].replace([np.inf, -np.inf], np.nan).fillna(0)\n",
    "#df['StepsPerActiveMinute']"
   ]
  },
  {
   "cell_type": "code",
   "execution_count": null,
   "id": "24f3b2fc-3ffa-4cba-ace3-7f92065b99da",
   "metadata": {},
   "outputs": [],
   "source": [
    "#Sleep efficientcy\n",
    "sleep = pd.read_csv('sleepDay_merged.csv')\n",
    "\n",
    "sleep['SleepEfficiency'] = sleep['TotalMinutesAsleep'] / sleep['TotalTimeInBed']\n",
    "sleep['SleepEfficiency'] = sleep['SleepEfficiency'].fillna(0)\n",
    "#sleep['SleepEfficiency']"
   ]
  },
  {
   "cell_type": "code",
   "execution_count": null,
   "id": "12b465e8-0b0d-42c9-9b93-1cbbb78e23e7",
   "metadata": {},
   "outputs": [],
   "source": [
    "#Weight change over time\n",
    "weight = pd.read_csv('weightLogInfo_merged.csv')\n",
    "\n",
    "weight = weight.sort_values(['Id', 'Date'])\n",
    "weight['WeightChange'] = weight.groupby('Id')['WeightKg'].diff()\n",
    "#weight['WeightChange']\n"
   ]
  },
  {
   "cell_type": "code",
   "execution_count": null,
   "id": "15d65b87-78fe-4143-9302-dc13e3f3275b",
   "metadata": {},
   "outputs": [],
   "source": [
    "#Days since first record\n",
    "df['Date'] = pd.to_datetime(df['Date'])\n",
    "df['DaysSinceStart'] = (df['Date'] - df.groupby('Id')['Date'].transform('min')).dt.days\n",
    "#df['DaysSinceStart']"
   ]
  },
  {
   "cell_type": "code",
   "execution_count": null,
   "id": "b449bc78-a16c-438e-9390-ba217bf1aeb0",
   "metadata": {},
   "outputs": [],
   "source": [
    "#Sedentary to active ratio\n",
    "df['SedentaryToActiveRatio'] = np.where(\n",
    "    df['TotalActiveMinutes'] == 0,\n",
    "    np.nan,\n",
    "    df['IdleMinutes'] / df['TotalActiveMinutes']\n",
    ")\n",
    "#df['SedentaryToActiveRatio']\n",
    "# Filter data\n",
    "filtered_data = df[df['SedentaryToActiveRatio'] < 10]\n",
    "\n",
    "# Plot\n",
    "plt.figure(figsize=(8, 5))\n",
    "sns.histplot(filtered_data['SedentaryToActiveRatio'], bins=30, kde=True)\n",
    "plt.title('Distribution of Sedentary to Active Ratio (< 10)')\n",
    "plt.xlabel('Sedentary / Active Minutes')\n",
    "plt.ylabel('Frequency')\n",
    "plt.show()"
   ]
  },
  {
   "cell_type": "code",
   "execution_count": null,
   "id": "b50e6437-4c07-40a2-a3a4-85fb7b3b00b4",
   "metadata": {},
   "outputs": [],
   "source": [
    "#Sedentary to active ratio over time for a specific user\n",
    "user_id = df['Id'].unique()[0]\n",
    "df_user = df[df['Id'] == user_id]\n",
    "\n",
    "plt.figure(figsize=(10, 4))\n",
    "sns.lineplot(data=df_user, x='Date', y='SedentaryToActiveRatio')\n",
    "plt.title(f'Sedentary to Active Ratio Over Time for User {user_id}')\n",
    "plt.xticks(rotation=45)\n",
    "plt.tight_layout()\n",
    "plt.show()"
   ]
  },
  {
   "cell_type": "code",
   "execution_count": null,
   "id": "dea2a1c7-6c48-44b1-8756-d8f5817fdb3a",
   "metadata": {},
   "outputs": [],
   "source": [
    "#Sedantory to active ratio correltaion with calories burnt\n",
    "plt.figure(figsize=(6, 6))\n",
    "sns.scatterplot(data=df, x='SedentaryToActiveRatio', y='Calories')\n",
    "plt.title('Sedentary to Active Ratio vs Calories Burned')\n",
    "plt.xlabel('Sedentary / Active Minutes')\n",
    "plt.ylabel('Calories')\n",
    "plt.show()\n"
   ]
  },
  {
   "cell_type": "code",
   "execution_count": null,
   "id": "dde0951a-7ef0-4430-835d-3d9df2c4b6a0",
   "metadata": {},
   "outputs": [],
   "source": [
    "# Filter data\n",
    "filtered_data = df[df['SedentaryToActiveRatio'] < 10]\n",
    "\n",
    "# Plot\n",
    "plt.figure(figsize=(6, 6))\n",
    "sns.scatterplot(data=filtered_data, x='SedentaryToActiveRatio', y='Calories')\n",
    "plt.title('Sedentary to Active Ratio vs Calories Burned (Ratio < 10)')\n",
    "plt.xlabel('Sedentary / Active Minutes')\n",
    "plt.ylabel('Calories')\n",
    "plt.show()\n"
   ]
  },
  {
   "cell_type": "code",
   "execution_count": null,
   "id": "2cabb8c3-2b30-4861-ac44-2b72295e5cb1",
   "metadata": {},
   "outputs": [],
   "source": [
    "#Binning\n",
    "#Create ActivityLevel categories based on SedentaryToActiveRatio\n",
    "df['ActivityLevel'] = pd.qcut(df['SedentaryToActiveRatio'], q=3, labels=['High', 'Medium', 'Low'])\n",
    "#df['ActivityLevel']"
   ]
  },
  {
   "cell_type": "code",
   "execution_count": null,
   "id": "49347cbf-4947-4493-94fe-f32761e69d24",
   "metadata": {},
   "outputs": [],
   "source": [
    "#4. Model building and evaluation\n",
    "#Predicting calories burnt"
   ]
  },
  {
   "cell_type": "code",
   "execution_count": null,
   "id": "fa929fb3-0a90-4f8a-bd41-54adf2c1fca3",
   "metadata": {},
   "outputs": [],
   "source": [
    "#Import libraries\n",
    "from sklearn.model_selection import train_test_split\n",
    "from sklearn.linear_model import LinearRegression\n",
    "from sklearn.ensemble import RandomForestRegressor\n",
    "from sklearn.metrics import mean_squared_error, r2_score"
   ]
  },
  {
   "cell_type": "code",
   "execution_count": null,
   "id": "41c8e0d9-1267-4abe-b012-b7771002e425",
   "metadata": {},
   "outputs": [],
   "source": [
    "#Selecting features and target\n",
    "features = [\n",
    "    'Steps', 'ActiveMinutes', 'FairlyActiveMinutes', \n",
    "    'LightlyActiveMinutes', 'IdleMinutes',\n",
    "    'Distance', 'SedentaryToActiveRatio'\n",
    "]\n",
    "\n",
    "target = 'Calories'\n",
    "\n",
    "X = df[features]\n",
    "y = df[target]"
   ]
  },
  {
   "cell_type": "code",
   "execution_count": null,
   "id": "d3187fcf-3564-437e-89e8-5f094501c7d2",
   "metadata": {},
   "outputs": [],
   "source": [
    "#Handle missing values\n",
    "X = X.fillna(0)\n",
    "y = y.fillna(0)"
   ]
  },
  {
   "cell_type": "code",
   "execution_count": null,
   "id": "1745e9cc-9071-4ff8-9d50-15d934f8d595",
   "metadata": {},
   "outputs": [],
   "source": [
    "#Train-test split\n",
    "X_train, X_test, y_train, y_test = train_test_split(\n",
    "    X, y, test_size=0.2, random_state=42\n",
    ")"
   ]
  },
  {
   "cell_type": "code",
   "execution_count": null,
   "id": "24b807c7-9291-4c23-9154-de7b3fae26df",
   "metadata": {},
   "outputs": [],
   "source": [
    "#Train Linear Regression Model\n",
    "lr_model = LinearRegression()\n",
    "lr_model.fit(X_train, y_train)\n",
    "y_pred_lr = lr_model.predict(X_test)"
   ]
  },
  {
   "cell_type": "code",
   "execution_count": null,
   "id": "642470dd-b11e-440b-9eb0-a826758623fc",
   "metadata": {},
   "outputs": [],
   "source": [
    "#Evaluate Linear Regression Model\n",
    "mse_lr = mean_squared_error(y_test, y_pred_lr)\n",
    "r2_lr = r2_score(y_test, y_pred_lr)\n",
    "\n",
    "print(f\"Linear Regression - Mean Squared Error: {mse_lr:.2f}\")\n",
    "print(f\"Linear Regression - R² Score: {r2_lr:.2f}\")"
   ]
  },
  {
   "cell_type": "code",
   "execution_count": null,
   "id": "dfb97846-3a37-40bd-be4b-114ad628220b",
   "metadata": {},
   "outputs": [],
   "source": [
    "#Visualize Predictions vs Actual\n",
    "plt.figure(figsize=(8, 6))\n",
    "sns.scatterplot(x=y_test, y=y_pred_lr)\n",
    "plt.xlabel(\"Actual Calories\")\n",
    "plt.ylabel(\"Predicted Calories\")\n",
    "plt.title(\"Actual vs Predicted Calories - Linear Regression\")\n",
    "plt.plot([y_test.min(), y_test.max()], [y_test.min(), y_test.max()], 'r--')\n",
    "plt.show()"
   ]
  },
  {
   "cell_type": "code",
   "execution_count": null,
   "id": "5c996f9e-88b4-470a-9fd8-8cce745b956a",
   "metadata": {},
   "outputs": [],
   "source": [
    "#Train Random Forest Regressor\n",
    "rf_model = RandomForestRegressor(random_state=42)\n",
    "rf_model.fit(X_train, y_train)\n",
    "y_pred_rf = rf_model.predict(X_test)"
   ]
  },
  {
   "cell_type": "code",
   "execution_count": null,
   "id": "ec1de132-cde2-4ed6-a5eb-6c28c7b7c21e",
   "metadata": {},
   "outputs": [],
   "source": [
    "#Evaluate Random Forest Regressor\n",
    "mse_rf = mean_squared_error(y_test, y_pred_rf)\n",
    "r2_rf = r2_score(y_test, y_pred_rf)\n",
    "\n",
    "print(f\"Random Forest - Mean Squared Error: {mse_rf:.2f}\")\n",
    "print(f\"Random Forest - R² Score: {r2_rf:.2f}\")"
   ]
  },
  {
   "cell_type": "code",
   "execution_count": null,
   "id": "715b3bb7-3d10-48ec-ba79-8f9af8934f6e",
   "metadata": {},
   "outputs": [],
   "source": [
    "#Compare model performance\n",
    "comparison_df = pd.DataFrame({\n",
    "    'Model': ['Linear Regression', 'Random Forest'],\n",
    "    'MSE': [mse_lr, mse_rf],\n",
    "    'R2 Score': [r2_lr, r2_rf]\n",
    "})\n",
    "\n",
    "comparison_df"
   ]
  },
  {
   "cell_type": "code",
   "execution_count": null,
   "id": "9ea42743-250f-474e-b234-ed4822c36860",
   "metadata": {},
   "outputs": [],
   "source": [
    "#Train Decision Tree Model\n",
    "from sklearn.tree import DecisionTreeRegressor\n",
    "dt_model = DecisionTreeRegressor(random_state=42)\n",
    "dt_model.fit(X_train, y_train)\n",
    "dt_preds = dt_model.predict(X_test)"
   ]
  },
  {
   "cell_type": "code",
   "execution_count": null,
   "id": "451cfaee-a279-4832-8ad7-2292b2782380",
   "metadata": {},
   "outputs": [],
   "source": [
    "#Evaluate Decision Tree Model\n",
    "mse_dt = mean_squared_error(y_test, dt_preds)\n",
    "r2_dt = r2_score(y_test, dt_preds)\n",
    "\n",
    "print(f\"Decision Tree - Mean Squared Error: {mse_dt:.2f}\")\n",
    "print(f\"Decision Tree - R² Score: {r2_dt:.2f}\")"
   ]
  },
  {
   "cell_type": "code",
   "execution_count": null,
   "id": "f7e44d30-ff34-4fd3-93fd-8e5521b2d866",
   "metadata": {},
   "outputs": [],
   "source": [
    "#Train XGBoost Regressor\n",
    "#pip install xgboost\n",
    "from xgboost import XGBRegressor\n",
    "\n",
    "xgb_model = XGBRegressor(random_state=42)\n",
    "xgb_model.fit(X_train, y_train)\n",
    "xgb_preds = xgb_model.predict(X_test)"
   ]
  },
  {
   "cell_type": "code",
   "execution_count": null,
   "id": "263f95d6-3a8e-4609-a6ec-d547dcfc2042",
   "metadata": {},
   "outputs": [],
   "source": [
    "#Evaluate XGBoost Model\n",
    "mse_xgb = mean_squared_error(y_test, xgb_preds)\n",
    "r2_xgb = r2_score(y_test, xgb_preds)\n",
    "\n",
    "print(f\"XGBoost - Mean Squared Error: {mse_xgb:.2f}\")\n",
    "print(f\"XGBoost - R² Score: {r2_xgb:.2f}\")"
   ]
  },
  {
   "cell_type": "code",
   "execution_count": null,
   "id": "1e351b19-4d2f-42b1-b338-d8ad45296b99",
   "metadata": {},
   "outputs": [],
   "source": [
    "#Compare all model performances\n",
    "comparison_df = pd.DataFrame({\n",
    "    'Model': ['Linear Regression', 'Random Forest', 'Decision Tree', 'XGBoost'],\n",
    "    'MSE': [mse_lr, mse_rf, mse_dt, mse_xgb],\n",
    "    'R2 Score': [r2_lr, r2_rf, r2_dt, r2_xgb]\n",
    "})\n",
    "\n",
    "comparison_df\n",
    "#Random forest and XGBoost models with lovest MSE and highest R2 -> best performance"
   ]
  },
  {
   "cell_type": "code",
   "execution_count": null,
   "id": "f8e081a2-72bf-4561-b7f3-7a9250605493",
   "metadata": {},
   "outputs": [],
   "source": [
    "#XGBoost model feature importance\n",
    "importances = xgb_model.feature_importances_\n",
    "features = X.columns\n",
    "sorted_idx = importances.argsort()\n",
    "\n",
    "plt.barh(features[sorted_idx], importances[sorted_idx])\n",
    "plt.title(\"XGBoost Feature Importance\")\n",
    "plt.show()\n"
   ]
  },
  {
   "cell_type": "code",
   "execution_count": null,
   "id": "e70f2daf-6992-4507-aa69-e3edb5b59919",
   "metadata": {},
   "outputs": [],
   "source": [
    "#Hyperparameter tuning - immprove Decision Tree and XGBoost models\n",
    "from sklearn.model_selection import GridSearchCV\n",
    "\n",
    "# Hyperparameter tuning for Decision Tree\n",
    "dt_params = {\n",
    "    'max_depth': [3, 5, 7, 10, None],\n",
    "    'min_samples_split': [2, 5, 10],\n",
    "    'min_samples_leaf': [1, 2, 4]\n",
    "}\n",
    "\n",
    "dt_grid = GridSearchCV(DecisionTreeRegressor(random_state=42), dt_params, cv=5, scoring='neg_mean_squared_error', n_jobs=-1)\n",
    "dt_grid.fit(X_train, y_train)\n",
    "\n",
    "print(f\"Best Decision Tree params: {dt_grid.best_params_}\")\n",
    "\n",
    "# Use the best estimator for prediction\n",
    "best_dt = dt_grid.best_estimator_\n",
    "y_pred_dt = best_dt.predict(X_test)\n",
    "\n",
    "# Hyperparameter tuning for XGBoost\n",
    "xgb_params = {\n",
    "    'max_depth': [3, 5, 7],\n",
    "    'learning_rate': [0.01, 0.1, 0.2],\n",
    "    'n_estimators': [100, 200],\n",
    "    'subsample': [0.8, 1],\n",
    "    'colsample_bytree': [0.8, 1]\n",
    "}\n",
    "\n",
    "xgb_grid = GridSearchCV(XGBRegressor(random_state=42, objective='reg:squarederror'), xgb_params, cv=5, scoring='neg_mean_squared_error', n_jobs=-1)\n",
    "xgb_grid.fit(X_train, y_train)\n",
    "\n",
    "print(f\"Best XGBoost params: {xgb_grid.best_params_}\")\n",
    "\n",
    "# Use the best estimator for prediction\n",
    "best_xgb = xgb_grid.best_estimator_\n",
    "y_pred_xgb = best_xgb.predict(X_test)\n"
   ]
  },
  {
   "cell_type": "code",
   "execution_count": null,
   "id": "3c3fa60c-ccfd-47f1-9964-96c5e03637dd",
   "metadata": {},
   "outputs": [],
   "source": [
    "#Evaluate Decision Tree Model after Hyperparameter tuning\n",
    "mse_dt_h = mean_squared_error(y_test, y_pred_dt)\n",
    "r2_dt_h = r2_score(y_test, y_pred_dt)\n",
    "\n",
    "print(f\"Decision Tree - Mean Squared Error: {mse_dt_h:.2f}\")\n",
    "print(f\"Decision Tree - R² Score: {r2_dt_h:.2f}\")"
   ]
  },
  {
   "cell_type": "code",
   "execution_count": null,
   "id": "a54ef1c5-d83c-4fa5-9a36-3804e4102257",
   "metadata": {},
   "outputs": [],
   "source": [
    "#Evaluate XGBoost Model after Hyperparameter tuning\n",
    "mse_xgb = mean_squared_error(y_test, y_pred_xgb)\n",
    "r2_xgb = r2_score(y_test, y_pred_xgb)\n",
    "\n",
    "print(f\"XGBoost - Mean Squared Error: {mse_xgb:.2f}\")\n",
    "print(f\"XGBoost - R² Score: {r2_xgb:.2f}\")\n",
    "\n",
    "#Slightly better evaluation results fr both models after hyperparameter tuning"
   ]
  },
  {
   "cell_type": "code",
   "execution_count": null,
   "id": "0d24cce6-6805-4e87-8731-54f0b9d9c96f",
   "metadata": {},
   "outputs": [],
   "source": [
    "#5 pandas\n",
    "#more data manipulation"
   ]
  },
  {
   "cell_type": "code",
   "execution_count": null,
   "id": "0a562899-a1ca-436b-8999-a39488466edb",
   "metadata": {},
   "outputs": [],
   "source": [
    "import pandas as pd\n",
    "\n",
    "# Load data\n",
    "df = pd.read_csv('dailyActivity_merged.csv')\n",
    "\n",
    "# Convert date column\n",
    "df['ActivityDate'] = pd.to_datetime(df['ActivityDate'])\n",
    "\n",
    "# Rolling average of steps (7-day)\n",
    "df_sorted = df.sort_values('ActivityDate')\n",
    "df_sorted['7day_steps_avg'] = df_sorted['TotalSteps'].rolling(window=7).mean()\n",
    "\n",
    "# Pivot table: average steps per user\n",
    "pivot = df.pivot_table(index='Id', values='TotalSteps', aggfunc='mean')\n",
    "\n",
    "# Merge with sleep data\n",
    "sleep = pd.read_csv('sleepDay_merged.csv')\n",
    "sleep['SleepDay'] = pd.to_datetime(sleep['SleepDay'], format='%m/%d/%Y %I:%M:%S %p')\n",
    "merged = pd.merge(df, sleep, left_on=['Id', 'ActivityDate'], right_on=['Id', 'SleepDay'], how='left')\n",
    "\n",
    "#df_sorted\n",
    "#pivot\n",
    "#merged"
   ]
  },
  {
   "cell_type": "code",
   "execution_count": null,
   "id": "1080d6fa-5eb5-458a-9d7c-64c07b97e04e",
   "metadata": {},
   "outputs": [],
   "source": [
    "#6 numpy"
   ]
  },
  {
   "cell_type": "code",
   "execution_count": null,
   "id": "128be364-c883-4910-9030-905681edd9a4",
   "metadata": {},
   "outputs": [],
   "source": [
    "import numpy as np\n",
    "\n",
    "# Arrays\n",
    "arr = np.array([1, 2, 3])\n",
    "zeros = np.zeros((2, 3))\n",
    "ones = np.ones((3, 2))\n",
    "rand = np.random.rand(2, 2) #random elements from -1 to 1\n",
    "\n",
    "print(\"Array:\", arr)\n",
    "print(\"Zeros:\\n\", zeros)\n",
    "print(\"Ones:\\n\", ones)\n",
    "print(\"Random:\\n\", rand)\n",
    "print(\"Shape:\", arr.shape) #arr shape\n",
    "print(\"Datatype:\", arr.dtype) #arr datatype\n",
    "print(\"Size:\", arr.size) #arr size"
   ]
  },
  {
   "cell_type": "code",
   "execution_count": null,
   "id": "05290e9e-0782-4d2d-b891-9b52305d6aa8",
   "metadata": {},
   "outputs": [],
   "source": [
    "#Matrix\n",
    "matrix = np.arange(1, 10).reshape((3, 3))\n",
    "flat = matrix.flatten() #matrix in single row\n",
    "\n",
    "print(\"Matrix:\\n\", matrix)\n",
    "print(\"Flattened:\", flat)\n",
    "\n",
    "print(\"Second row:\", matrix[1]) #slice row\n",
    "print(\"Element (2,2):\", matrix[1, 1]) #index element\n",
    "\n",
    "matrix + 5  # +5 to each element\n",
    "\n",
    "mask = matrix > 5 #masking\n",
    "print(\"Mask:\\n\", mask)\n",
    "print(\"Filtered values:\", matrix[mask])"
   ]
  },
  {
   "cell_type": "code",
   "execution_count": null,
   "id": "df096ad7-128f-4908-8f15-615e3bfab08a",
   "metadata": {},
   "outputs": [],
   "source": [
    "#compare computation speed - squaring numbers\n",
    "# Base Python\n",
    "py_list = list(range(1, 10001))\n",
    "%timeit [x**2 for x in py_list]\n",
    "\n",
    "# NumPy\n",
    "np_array = np.array(py_list)\n",
    "%timeit np_array ** 2\n"
   ]
  },
  {
   "cell_type": "code",
   "execution_count": null,
   "id": "7eda775a-0451-490d-a723-e125144a6f1a",
   "metadata": {},
   "outputs": [],
   "source": [
    "#linear algebra\n",
    "A = np.array([[2, 1], [3, 4]])\n",
    "b = np.array([1, 2])\n",
    "\n",
    "# Solve Ax = b\n",
    "x = np.linalg.solve(A, b)\n",
    "print(\"Solution x:\", x)\n",
    "\n",
    "# Inverse A\n",
    "inv = np.linalg.inv(A)\n",
    "print(\"Inverse:\\n\", inv)"
   ]
  },
  {
   "cell_type": "code",
   "execution_count": null,
   "id": "16dcea6d-00fa-44fd-bfaa-f9671618e49e",
   "metadata": {},
   "outputs": [],
   "source": [
    "#simulate 10 coin flips\n",
    "coin_flips = np.random.choice(['H', 'T'], size=10)\n",
    "print(\"Flips:\", coin_flips)\n",
    "\n",
    "#simlate a sample of 1000 observations from a normal distribution\n",
    "samples = np.random.normal(loc=0, scale=1, size=1000)\n",
    "#samples"
   ]
  },
  {
   "cell_type": "code",
   "execution_count": null,
   "id": "de42b8ba-5f21-49d4-a539-18878e1af05b",
   "metadata": {},
   "outputs": [],
   "source": []
  }
 ],
 "metadata": {
  "kernelspec": {
   "display_name": "Python [conda env:base] *",
   "language": "python",
   "name": "conda-base-py"
  },
  "language_info": {
   "codemirror_mode": {
    "name": "ipython",
    "version": 3
   },
   "file_extension": ".py",
   "mimetype": "text/x-python",
   "name": "python",
   "nbconvert_exporter": "python",
   "pygments_lexer": "ipython3",
   "version": "3.11.7"
  }
 },
 "nbformat": 4,
 "nbformat_minor": 5
}
