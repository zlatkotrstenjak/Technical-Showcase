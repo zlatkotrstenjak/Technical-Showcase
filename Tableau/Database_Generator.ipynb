{
  "nbformat": 4,
  "nbformat_minor": 0,
  "metadata": {
    "colab": {
      "provenance": [],
      "authorship_tag": "ABX9TyPKer9wXh5nf1mjYwIBrcdt"
    },
    "kernelspec": {
      "name": "python3",
      "display_name": "Python 3"
    },
    "language_info": {
      "name": "python"
    }
  },
  "cells": [
    {
      "cell_type": "code",
      "execution_count": 12,
      "metadata": {
        "colab": {
          "base_uri": "https://localhost:8080/",
          "height": 35
        },
        "id": "Y-OgUqAbdY3u",
        "outputId": "38a42ad7-5fab-434e-a924-4980b9a8bb8f"
      },
      "outputs": [
        {
          "output_type": "display_data",
          "data": {
            "text/plain": [
              "<IPython.core.display.Javascript object>"
            ],
            "application/javascript": [
              "\n",
              "    async function download(id, filename, size) {\n",
              "      if (!google.colab.kernel.accessAllowed) {\n",
              "        return;\n",
              "      }\n",
              "      const div = document.createElement('div');\n",
              "      const label = document.createElement('label');\n",
              "      label.textContent = `Downloading \"${filename}\": `;\n",
              "      div.appendChild(label);\n",
              "      const progress = document.createElement('progress');\n",
              "      progress.max = size;\n",
              "      div.appendChild(progress);\n",
              "      document.body.appendChild(div);\n",
              "\n",
              "      const buffers = [];\n",
              "      let downloaded = 0;\n",
              "\n",
              "      const channel = await google.colab.kernel.comms.open(id);\n",
              "      // Send a message to notify the kernel that we're ready.\n",
              "      channel.send({})\n",
              "\n",
              "      for await (const message of channel.messages) {\n",
              "        // Send a message to notify the kernel that we're ready.\n",
              "        channel.send({})\n",
              "        if (message.buffers) {\n",
              "          for (const buffer of message.buffers) {\n",
              "            buffers.push(buffer);\n",
              "            downloaded += buffer.byteLength;\n",
              "            progress.value = downloaded;\n",
              "          }\n",
              "        }\n",
              "      }\n",
              "      const blob = new Blob(buffers, {type: 'application/binary'});\n",
              "      const a = document.createElement('a');\n",
              "      a.href = window.URL.createObjectURL(blob);\n",
              "      a.download = filename;\n",
              "      div.appendChild(a);\n",
              "      a.click();\n",
              "      div.remove();\n",
              "    }\n",
              "  "
            ]
          },
          "metadata": {}
        },
        {
          "output_type": "display_data",
          "data": {
            "text/plain": [
              "<IPython.core.display.Javascript object>"
            ],
            "application/javascript": [
              "download(\"download_c689686e-c04e-4848-9b1c-dacd5404cb34\", \"sales_database_tableau_showcase.xlsx\", 124616)"
            ]
          },
          "metadata": {}
        },
        {
          "output_type": "execute_result",
          "data": {
            "text/plain": [
              "'/content/sales_database_tableau_showcase.xlsx'"
            ],
            "application/vnd.google.colaboratory.intrinsic+json": {
              "type": "string"
            }
          },
          "metadata": {},
          "execution_count": 12
        }
      ],
      "source": [
        "#generate a database for Tableau showcase\n",
        "\n",
        "#install requirements with below line\n",
        "#pip install -r requirements.txt\n",
        "\n",
        "import pandas as pd\n",
        "import numpy as np\n",
        "import random\n",
        "from faker import Faker\n",
        "from datetime import datetime, timedelta\n",
        "from google.colab import files #for google colab\n",
        "\n",
        "fake = Faker()\n",
        "\n",
        "# Parameters\n",
        "num_orders = 1000\n",
        "categories = {\n",
        "    \"Furniture\": [\"Chair\", \"Desk\", \"Table\", \"Bookshelf\"],\n",
        "    \"Technology\": [\"Laptop\", \"Monitor\", \"Phone\", \"Tablet\"],\n",
        "    \"Office Supplies\": [\"Pen\", \"Notebook\", \"Stapler\", \"Paper\"]\n",
        "}\n",
        "regions = [\"North America\", \"Europe\", \"Asia\", \"Australia\"]\n",
        "shipping_modes = [\"Standard Class\", \"Second Class\", \"First Class\", \"Same Day\"]\n",
        "segments = [\"Consumer\", \"Corporate\", \"Home Office\"]\n",
        "countries_by_region = {\n",
        "    \"North America\": [\"USA\", \"Canada\", \"Mexico\"],\n",
        "    \"Europe\": [\"Germany\", \"France\", \"UK\", \"Italy\"],\n",
        "    \"Asia\": [\"China\", \"India\", \"Japan\", \"South Korea\"],\n",
        "    \"Australia\": [\"Australia\", \"New Zealand\"]\n",
        "}\n",
        "\n",
        "# Generate orders\n",
        "orders = []\n",
        "for i in range(1, num_orders + 1):\n",
        "    region = random.choice(regions)\n",
        "    country = random.choice(countries_by_region[region])\n",
        "    order_date = fake.date_between(start_date=\"-2y\", end_date=\"today\")\n",
        "    ship_date = order_date + timedelta(days=random.randint(2, 10))\n",
        "    category = random.choice(list(categories.keys()))\n",
        "    sub_category = random.choice(categories[category])\n",
        "    unit_price = round(random.uniform(10, 1000), 2)\n",
        "    quantity = random.randint(1, 10)\n",
        "    discount = round(random.choice([0, 0.1, 0.2]), 2)\n",
        "    sales = round(unit_price * quantity * (1 - discount), 2)\n",
        "    cost = unit_price * quantity * (random.uniform(0.6, 0.9))  # simulate cost for profit calculation\n",
        "    profit = round(sales - cost, 2)\n",
        "\n",
        "    orders.append({\n",
        "        \"Order ID\": f\"O-{i:04d}\",\n",
        "        \"Order Date\": order_date,\n",
        "        \"Ship Date\": ship_date,\n",
        "        \"Customer ID\": f\"C-{random.randint(100, 999)}\",\n",
        "        \"Customer Name\": fake.name(),\n",
        "        \"Segment\": random.choice(segments),\n",
        "        \"Region\": region,\n",
        "        \"Country\": country,\n",
        "        \"City\": fake.city(),\n",
        "        \"Product ID\": f\"P-{random.randint(1000, 9999)}\",\n",
        "        \"Product Name\": sub_category,\n",
        "        \"Category\": category,\n",
        "        \"Sub-Category\": sub_category,\n",
        "        \"Quantity\": quantity,\n",
        "        \"Unit Price\": unit_price,\n",
        "        \"Sales\": sales,\n",
        "        \"Discount\": discount,\n",
        "        \"Profit\": profit,\n",
        "        \"Shipping Mode\": random.choice(shipping_modes)\n",
        "    })\n",
        "\n",
        "df_sales = pd.DataFrame(orders)\n",
        "file_path = \"/content/sales_database_tableau_showcase.xlsx\" #for Google Colab\n",
        "df_sales.to_excel(file_path, index=False)\n",
        "\n",
        "files.download(file_path) #for Google Colab\n",
        "\n",
        "df_sales\n",
        "file_path\n"
      ]
    },
    {
      "cell_type": "code",
      "source": [],
      "metadata": {
        "id": "41WDDvPGfK3y"
      },
      "execution_count": null,
      "outputs": []
    }
  ]
}